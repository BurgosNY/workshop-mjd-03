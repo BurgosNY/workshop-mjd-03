{
 "cells": [
  {
   "cell_type": "code",
   "execution_count": 3,
   "id": "077e455c-f2a0-4d95-a0da-f2010bf384b7",
   "metadata": {},
   "outputs": [
    {
     "name": "stderr",
     "output_type": "stream",
     "text": [
      "/var/folders/cs/djjcq1v54vj4qcxcgmfnbr8r0000gn/T/ipykernel_59868/2288869604.py:4: DeprecationWarning: executable_path has been deprecated, please pass in a Service object\n",
      "  driver = webdriver.Chrome(binary_path)\n"
     ]
    }
   ],
   "source": [
    "from selenium import webdriver\n",
    "from selenium.webdriver.common.by import By\n",
    "from selenium.webdriver.common.keys import Keys\n",
    "from chromedriver_py import binary_path\n",
    "\n",
    "driver = webdriver.Chrome(binary_path)"
   ]
  },
  {
   "cell_type": "code",
   "execution_count": 40,
   "id": "d05015c8-1101-4b1b-acb9-90106251b70a",
   "metadata": {},
   "outputs": [
    {
     "data": {
      "text/plain": [
       "24"
      ]
     },
     "execution_count": 40,
     "metadata": {},
     "output_type": "execute_result"
    }
   ],
   "source": [
    "len(soup.find_all(\"div\", \"text-wrapper style-scope ytd-video-renderer\"))"
   ]
  },
  {
   "cell_type": "code",
   "execution_count": null,
   "id": "299d9129-545e-4114-9b9c-c5b491de7e64",
   "metadata": {},
   "outputs": [],
   "source": [
    "soup = driver"
   ]
  }
 ],
 "metadata": {
  "kernelspec": {
   "display_name": "Python 3 (ipykernel)",
   "language": "python",
   "name": "python3"
  },
  "language_info": {
   "codemirror_mode": {
    "name": "ipython",
    "version": 3
   },
   "file_extension": ".py",
   "mimetype": "text/x-python",
   "name": "python",
   "nbconvert_exporter": "python",
   "pygments_lexer": "ipython3",
   "version": "3.10.10"
  }
 },
 "nbformat": 4,
 "nbformat_minor": 5
}
